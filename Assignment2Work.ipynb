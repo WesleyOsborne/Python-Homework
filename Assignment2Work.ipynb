{
 "cells": [
  {
   "cell_type": "code",
   "execution_count": 55,
   "id": "a8c2fd67-8067-4cdb-9221-6da1fb68618b",
   "metadata": {},
   "outputs": [
    {
     "name": "stdout",
     "output_type": "stream",
     "text": [
      "        Date  Profit/Losses\n",
      "0   Jan-2010         867884\n",
      "1   Feb-2010         984655\n",
      "2   Mar-2010         322013\n",
      "3   Apr-2010         -69417\n",
      "4   May-2010         310503\n",
      "..       ...            ...\n",
      "81  Oct-2016         102685\n",
      "82  Nov-2016         795914\n",
      "83  Dec-2016          60988\n",
      "84  Jan-2017         138230\n",
      "85  Feb-2017         671099\n",
      "\n",
      "[86 rows x 2 columns]\n"
     ]
    }
   ],
   "source": [
    "import pandas as pd\n",
    "F1 = pd.read_csv(\"Pybank.csv\")\n",
    "print(F1)\n",
    "Results = open('result.txt', 'w')"
   ]
  },
  {
   "cell_type": "code",
   "execution_count": 56,
   "id": "767972a4-7e9c-4bbf-977c-d54743ae8b5e",
   "metadata": {},
   "outputs": [],
   "source": [
    "# Calculat the Total Months, Income and Min/Max Values\n",
    "Total_Months = F1['Date'].count()\n",
    "Income = F1['Profit/Losses'].sum()\n",
    "MaxProfit = F1['Profit/Losses'].max()\n",
    "MaxLosses = F1['Profit/Losses'].min()\n",
    "\n",
    "Profit_LossesList = list(F1['Profit/Losses'])\n",
    "Date_List = list(F1['Date'])\n",
    "ChangeList = []\n",
    "Counter = 0\n",
    "\n",
    "for i in range(len(F1)-1):\n",
    "    List1 = Profit_LossesList[i]\n",
    "    List2 = Profit_LossesList[i+1]\n",
    "    ChangeList.append(List2-List1)\n",
    "\n",
    "AverageChange = round(sum(ChangeList)/Total_Months, 2)\n",
    "\n",
    "#Finding the index for the min and max values to add dates to the result\n",
    "index1 = Profit_LossesList.index(MaxProfit)\n",
    "index2 = Profit_LossesList.index(MaxLosses)"
   ]
  },
  {
   "cell_type": "code",
   "execution_count": 57,
   "id": "4658ec10-85ea-43ed-9b75-0e1839b903b4",
   "metadata": {},
   "outputs": [
    {
     "name": "stdout",
     "output_type": "stream",
     "text": [
      "Financial Analysis\n",
      "-------------------------------\n",
      "Total Months: 86\n",
      "Total Profits: 38382578\n",
      "Average Change: -2288.2\n",
      "Greatest Increase in Profits: 1170593 Feb-2012\n",
      "Greatest Decrease in Profits: -1196225 Sep-2013\n"
     ]
    }
   ],
   "source": [
    "Results.write(f\"Financial Analysis\\n\")\n",
    "Results.write(f\"-------------------------------\\n\")\n",
    "Results.write(f\"Total Months: {Total_Months}\\n\")\n",
    "Results.write(f\"Total Profits: {Income}\\n\")\n",
    "Results.write(f\"Average Change: {AverageChange}\\n\")\n",
    "Results.write(f\"Greatest Increase in Profits: {MaxProfit}\\n\")\n",
    "Results.write(f\"Greatest Decrease in Profits: {MaxLosses}\\n\")\n",
    "\n",
    "\n",
    "print(f\"Financial Analysis\")\n",
    "print(f\"-------------------------------\")\n",
    "print(f\"Total Months: {Total_Months}\")\n",
    "print(f\"Total Profits: {Income}\")\n",
    "print(f\"Average Change: {AverageChange}\")\n",
    "print(f\"Greatest Increase in Profits: {MaxProfit}\",(Date_List[index1]))\n",
    "print(f\"Greatest Decrease in Profits: {MaxLosses}\", (Date_List[index2]))"
   ]
  },
  {
   "cell_type": "code",
   "execution_count": 60,
   "id": "cc7bbb4d-4378-4df8-8f95-9afcbc6482d2",
   "metadata": {},
   "outputs": [],
   "source": [
    "Results.close()"
   ]
  },
  {
   "cell_type": "code",
   "execution_count": null,
   "id": "6e67ee6b-d1f1-4f60-b318-648a60612ee3",
   "metadata": {},
   "outputs": [],
   "source": []
  }
 ],
 "metadata": {
  "kernelspec": {
   "display_name": "Python 3",
   "language": "python",
   "name": "python3"
  },
  "language_info": {
   "codemirror_mode": {
    "name": "ipython",
    "version": 3
   },
   "file_extension": ".py",
   "mimetype": "text/x-python",
   "name": "python",
   "nbconvert_exporter": "python",
   "pygments_lexer": "ipython3",
   "version": "3.8.5"
  }
 },
 "nbformat": 4,
 "nbformat_minor": 5
}
